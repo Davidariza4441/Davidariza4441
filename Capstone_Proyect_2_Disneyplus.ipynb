{
 "cells": [
  {
   "cell_type": "code",
   "execution_count": 1,
   "id": "35087e52",
   "metadata": {},
   "outputs": [],
   "source": [
    "file= '/Users/ez/Downloads/disney_plus_shows.csv'"
   ]
  },
  {
   "cell_type": "code",
   "execution_count": 2,
   "id": "dfd13959",
   "metadata": {},
   "outputs": [],
   "source": [
    "import pandas as pd\n",
    "df = pd.read_csv(file)"
   ]
  },
  {
   "cell_type": "code",
   "execution_count": 3,
   "id": "22617aca",
   "metadata": {},
   "outputs": [],
   "source": [
    "#df['year'] = pd.to_numeric(df['year'].str.replace('–',''))\n",
    "#df['year']=df['year'].fillna(0).astype(int)"
   ]
  },
  {
   "cell_type": "code",
   "execution_count": 6,
   "id": "2a04a2ce",
   "metadata": {},
   "outputs": [],
   "source": [
    "c= df['year'].str.split('-')"
   ]
  },
  {
   "cell_type": "code",
   "execution_count": 7,
   "id": "7bfc0b19",
   "metadata": {},
   "outputs": [],
   "source": [
    "import datetime as dt\n",
    "df['released_at']= pd.to_datetime(df['released_at'])\n",
    "df['added_at']= pd.to_datetime(df['added_at'])"
   ]
  },
  {
   "cell_type": "code",
   "execution_count": 8,
   "id": "968fa7b6",
   "metadata": {},
   "outputs": [
    {
     "name": "stderr",
     "output_type": "stream",
     "text": [
      "/var/folders/01/3t8cj2yd1rlgn7lfk03yjjdh0000gn/T/ipykernel_52310/541885416.py:1: FutureWarning: The default value of regex will change from True to False in a future version.\n",
      "  df['timemin']=df['runtime'].str.replace(r'\\D', '')\n"
     ]
    }
   ],
   "source": [
    "df['timemin']=df['runtime'].str.replace(r'\\D', '')"
   ]
  },
  {
   "cell_type": "code",
   "execution_count": 9,
   "id": "43920682",
   "metadata": {},
   "outputs": [
    {
     "data": {
      "text/plain": [
       "0      283945\n",
       "1         124\n",
       "2       97785\n",
       "3        7434\n",
       "4       33444\n",
       "        ...  \n",
       "987      3750\n",
       "988      6378\n",
       "989      3318\n",
       "990      2339\n",
       "991    410437\n",
       "Name: imdb_votes, Length: 992, dtype: object"
      ]
     },
     "execution_count": 9,
     "metadata": {},
     "output_type": "execute_result"
    }
   ],
   "source": [
    "df['timemin']= pd.to_numeric(df['timemin'])\n",
    "#df['imdb_votes']= pd.to_numeric(df['imdb_votes'])\n",
    "df['imdb_votes'] = df['imdb_votes'].str.replace(',', '')\n",
    "df['imdb_votes'] = df['imdb_votes'].astype(float)"
   ]
  },
  {
   "cell_type": "code",
   "execution_count": 39,
   "id": "d807fcf8",
   "metadata": {},
   "outputs": [
    {
     "data": {
      "text/html": [
       "<div>\n",
       "<style scoped>\n",
       "    .dataframe tbody tr th:only-of-type {\n",
       "        vertical-align: middle;\n",
       "    }\n",
       "\n",
       "    .dataframe tbody tr th {\n",
       "        vertical-align: top;\n",
       "    }\n",
       "\n",
       "    .dataframe thead th {\n",
       "        text-align: right;\n",
       "    }\n",
       "</style>\n",
       "<table border=\"1\" class=\"dataframe\">\n",
       "  <thead>\n",
       "    <tr style=\"text-align: right;\">\n",
       "      <th></th>\n",
       "      <th>imdb_id</th>\n",
       "      <th>title</th>\n",
       "      <th>plot</th>\n",
       "      <th>type</th>\n",
       "      <th>rated</th>\n",
       "      <th>year</th>\n",
       "      <th>released_at</th>\n",
       "      <th>added_at</th>\n",
       "      <th>runtime</th>\n",
       "      <th>genre</th>\n",
       "      <th>director</th>\n",
       "      <th>writer</th>\n",
       "      <th>actors</th>\n",
       "      <th>language</th>\n",
       "      <th>country</th>\n",
       "      <th>awards</th>\n",
       "      <th>metascore</th>\n",
       "      <th>imdb_rating</th>\n",
       "      <th>imdb_votes</th>\n",
       "      <th>timemin</th>\n",
       "    </tr>\n",
       "  </thead>\n",
       "  <tbody>\n",
       "  </tbody>\n",
       "</table>\n",
       "</div>"
      ],
      "text/plain": [
       "Empty DataFrame\n",
       "Columns: [imdb_id, title, plot, type, rated, year, released_at, added_at, runtime, genre, director, writer, actors, language, country, awards, metascore, imdb_rating, imdb_votes, timemin]\n",
       "Index: []"
      ]
     },
     "execution_count": 39,
     "metadata": {},
     "output_type": "execute_result"
    }
   ],
   "source": [
    "df2= df\n",
    "df2=df2.dropna(subset= ['imdb_id', 'genre'])\n",
    "\n",
    "df2[df2['title'].isna()==True]"
   ]
  },
  {
   "cell_type": "code",
   "execution_count": 15,
   "id": "7fea0c8c",
   "metadata": {},
   "outputs": [],
   "source": [
    "genres= df['genre'].str.get_dummies(',')\n",
    "actors= df['actors'].str.get_dummies(',')"
   ]
  },
  {
   "cell_type": "code",
   "execution_count": 16,
   "id": "28a4ec1a",
   "metadata": {},
   "outputs": [],
   "source": [
    "imdb_id= df2['imdb_id']\n",
    "\n",
    "a=df2[df2['imdb_id'].isna()==True]\n"
   ]
  },
  {
   "cell_type": "code",
   "execution_count": 17,
   "id": "d7d2b575",
   "metadata": {},
   "outputs": [],
   "source": [
    "title= df2['title']\n",
    "b=df2[df2['title'].isna()==True]\n"
   ]
  },
  {
   "cell_type": "code",
   "execution_count": 18,
   "id": "6d94f97c",
   "metadata": {},
   "outputs": [
    {
     "name": "stderr",
     "output_type": "stream",
     "text": [
      "/var/folders/01/3t8cj2yd1rlgn7lfk03yjjdh0000gn/T/ipykernel_52310/378015801.py:2: SettingWithCopyWarning: \n",
      "A value is trying to be set on a copy of a slice from a DataFrame.\n",
      "Try using .loc[row_indexer,col_indexer] = value instead\n",
      "\n",
      "See the caveats in the documentation: https://pandas.pydata.org/pandas-docs/stable/user_guide/indexing.html#returning-a-view-versus-a-copy\n",
      "  df2['plot']= df2['plot'].fillna('None')\n"
     ]
    }
   ],
   "source": [
    "plot= df2['plot']\n",
    "df2['plot']= df2['plot'].fillna('None')\n",
    "c=df2[df2['plot'].isna()==True]"
   ]
  },
  {
   "cell_type": "code",
   "execution_count": 19,
   "id": "9da21307",
   "metadata": {},
   "outputs": [
    {
     "name": "stdout",
     "output_type": "stream",
     "text": [
      "Stored 'df3' (Series)\n",
      "type\n",
      "episode    7.005556\n",
      "movie      6.577563\n",
      "series     6.917935\n",
      "Name: imdb_rating, dtype: float64\n"
     ]
    }
   ],
   "source": [
    "types= df2['type']\n",
    "d=df2[df2['type'].isna()==True]\n",
    "\n",
    "types= df2.set_index('type').groupby('type').mean()\n",
    "df3= types.imdb_rating\n",
    "%store df3\n",
    "print(types.imdb_rating)"
   ]
  },
  {
   "cell_type": "code",
   "execution_count": 20,
   "id": "3236572b",
   "metadata": {},
   "outputs": [],
   "source": [
    "rate= df2['rated']\n",
    "f=df2[df2['rated'].isna()==True]\n"
   ]
  },
  {
   "cell_type": "code",
   "execution_count": 21,
   "id": "f173e1b0",
   "metadata": {},
   "outputs": [
    {
     "name": "stdout",
     "output_type": "stream",
     "text": [
      "Stored 'df4' (Series)\n",
      "year\n",
      "1928     7.600000\n",
      "1932     7.233333\n",
      "1933     7.100000\n",
      "1934     7.100000\n",
      "1935     7.375000\n",
      "           ...   \n",
      "2018–    7.007143\n",
      "2019     6.642857\n",
      "2019–    7.543750\n",
      "2020     6.992857\n",
      "2020–    6.550000\n",
      "Name: imdb_rating, Length: 178, dtype: float64\n"
     ]
    }
   ],
   "source": [
    "year=df2['year']\n",
    "g=df2[df2['year'].isna()==True]\n",
    "\n",
    "years= df2.set_index('year').groupby('year').mean()\n",
    "df4= years.imdb_rating\n",
    "%store df4\n",
    "print(years.imdb_rating)"
   ]
  },
  {
   "cell_type": "code",
   "execution_count": 22,
   "id": "2b787371",
   "metadata": {},
   "outputs": [
    {
     "name": "stdout",
     "output_type": "stream",
     "text": [
      "Stored 'df5' (Series)\n",
      "released_at\n",
      "1929-01-01    7.6\n",
      "1932-07-30    7.5\n",
      "1932-11-19    6.8\n",
      "1932-12-10    7.4\n",
      "1933-05-27    7.5\n",
      "             ... \n",
      "2020-03-06    7.1\n",
      "2020-03-13    6.2\n",
      "2020-03-20    7.6\n",
      "2020-04-03    6.9\n",
      "2020-04-10    7.6\n",
      "Name: imdb_rating, Length: 795, dtype: float64\n"
     ]
    }
   ],
   "source": [
    "relased= df2['released_at']\n",
    "h=df2[df2['released_at'].isna()==True]\n",
    "\n",
    "released= df2.set_index('released_at').groupby('released_at').mean()\n",
    "df5= released.imdb_rating\n",
    "%store df5\n",
    "print(released.imdb_rating)"
   ]
  },
  {
   "cell_type": "code",
   "execution_count": 23,
   "id": "32100406",
   "metadata": {},
   "outputs": [
    {
     "name": "stdout",
     "output_type": "stream",
     "text": [
      "Stored 'df6' (Series)\n",
      "added_at\n",
      "2019-10-01    6.727273\n",
      "2019-11-12    6.641331\n",
      "2019-11-27    5.500000\n",
      "2019-11-29    8.400000\n",
      "2019-12-01    6.137500\n",
      "2019-12-03    7.300000\n",
      "2019-12-05    7.900000\n",
      "2019-12-13         NaN\n",
      "2019-12-20    6.400000\n",
      "2019-12-26    7.000000\n",
      "2020-01-01    6.590000\n",
      "2020-01-03    7.800000\n",
      "2020-01-08    7.000000\n",
      "2020-01-10    7.566667\n",
      "2020-01-15    7.366667\n",
      "2020-01-17    5.500000\n",
      "2020-01-22    9.700000\n",
      "2020-01-28    6.900000\n",
      "2020-01-31    6.700000\n",
      "2020-02-01    6.300000\n",
      "2020-02-02    6.700000\n",
      "2020-02-05    7.800000\n",
      "2020-02-07    6.100000\n",
      "2020-02-09    5.400000\n",
      "2020-02-14    6.250000\n",
      "2020-02-16    4.700000\n",
      "2020-02-21    7.300000\n",
      "2020-02-28    6.900000\n",
      "2020-03-01    6.100000\n",
      "2020-03-04    7.300000\n",
      "2020-03-05    6.000000\n",
      "2020-03-06    5.900000\n",
      "2020-03-13    6.200000\n",
      "2020-03-14    7.000000\n",
      "2020-03-15    5.100000\n",
      "2020-03-20    6.800000\n",
      "2020-03-25    4.200000\n",
      "2020-04-01    5.950000\n",
      "2020-04-03    7.050000\n",
      "2020-04-10    7.350000\n",
      "2020-04-17    6.800000\n",
      "2020-04-24    6.700000\n",
      "2020-04-30    6.800000\n",
      "2020-05-01    7.236364\n",
      "2020-05-02    6.600000\n",
      "Name: imdb_rating, dtype: float64\n"
     ]
    }
   ],
   "source": [
    "added= df2['added_at']\n",
    "i=df2[df2['added_at'].isna()==True]\n",
    "\n",
    "addedat= df2.set_index('added_at').groupby('added_at').mean()\n",
    "df6= addedat.imdb_rating\n",
    "%store df6\n",
    "print(addedat.imdb_rating)"
   ]
  },
  {
   "cell_type": "code",
   "execution_count": null,
   "id": "094b8f03",
   "metadata": {},
   "outputs": [],
   "source": [
    " "
   ]
  },
  {
   "cell_type": "code",
   "execution_count": 24,
   "id": "7f1f6588",
   "metadata": {},
   "outputs": [
    {
     "name": "stdout",
     "output_type": "stream",
     "text": [
      "Stored 'df7' (Series)\n",
      "timemin\n",
      "1.0      6.100000\n",
      "2.0      6.620000\n",
      "3.0      7.225000\n",
      "4.0      7.085714\n",
      "5.0      7.172727\n",
      "           ...   \n",
      "152.0    7.000000\n",
      "162.0    7.800000\n",
      "169.0    7.100000\n",
      "172.0    8.000000\n",
      "181.0    8.400000\n",
      "Name: imdb_rating, Length: 126, dtype: float64\n"
     ]
    }
   ],
   "source": [
    "runtime=df2['timemin']\n",
    "\n",
    "timemin= df2.set_index('timemin').groupby('timemin').mean()\n",
    "df7= addedat.imdb_rating\n",
    "%store df7\n",
    "print(timemin.imdb_rating)"
   ]
  },
  {
   "cell_type": "code",
   "execution_count": 25,
   "id": "40842d59",
   "metadata": {},
   "outputs": [
    {
     "name": "stdout",
     "output_type": "stream",
     "text": [
      "Stored 'df7' (Series)\n",
      "genre\n",
      "Action, Adventure, Biography, Drama, Family                    NaN\n",
      "Action, Adventure, Comedy                                   3.6000\n",
      "Action, Adventure, Comedy, Crime, Family                    4.9000\n",
      "Action, Adventure, Comedy, Crime, Family, Romance, Sport    5.7000\n",
      "Action, Adventure, Comedy, Crime, Family, Sci-Fi            4.1000\n",
      "                                                             ...  \n",
      "Musical, Reality-TV                                         7.2000\n",
      "Reality-TV                                                  7.6375\n",
      "Short, Comedy, Drama, Sci-Fi                                7.3000\n",
      "Short, Family                                               8.8000\n",
      "Short, Fantasy                                              6.1000\n",
      "Name: imdb_rating, Length: 366, dtype: float64\n"
     ]
    }
   ],
   "source": [
    "genre= df2['genre']\n",
    "\n",
    "gene= df2.set_index('genre').groupby('genre').mean()\n",
    "df7= gene.imdb_rating\n",
    "%store df7\n",
    "print(gene.imdb_rating)"
   ]
  },
  {
   "cell_type": "code",
   "execution_count": 26,
   "id": "fba806f6",
   "metadata": {},
   "outputs": [
    {
     "name": "stdout",
     "output_type": "stream",
     "text": [
      "Stored 'df8' (Series)\n",
      "director\n",
      "Aaron Blaise, Robert Walker                      6.8\n",
      "Adam Shankman                                    6.0\n",
      "Alan Barillaro                                   8.4\n",
      "Alan Shapiro                                     6.5\n",
      "Alan Taylor                                      6.9\n",
      "                                                ... \n",
      "Wolfgang Reitherman, David Hand                  7.6\n",
      "Wolfgang Reitherman, James Algar, Jack Kinney    7.6\n",
      "Zach Lipovsky, Adam B. Stein                     3.6\n",
      "Zak Knutson                                      7.4\n",
      "Zhong Yu                                         6.4\n",
      "Name: imdb_rating, Length: 463, dtype: float64\n"
     ]
    }
   ],
   "source": [
    "director= df2['director']\n",
    "\n",
    "directors= df2.set_index('director').groupby('director').mean()\n",
    "df8= directors.imdb_rating\n",
    "%store df8\n",
    "print(directors.imdb_rating)"
   ]
  },
  {
   "cell_type": "code",
   "execution_count": 27,
   "id": "767a29b5",
   "metadata": {},
   "outputs": [
    {
     "name": "stdout",
     "output_type": "stream",
     "text": [
      "Stored 'df9' (Series)\n",
      "writer\n",
      "A.A. Milne (books), Larry Clemmons (story), Ralph Wright (story), Vance Gerry (story), Xavier Atencio (story), Ken Anderson (story), Julius Svendsen (story), Ted Berman (story), Eric Cleworth (story), Winston Hibler (story supervisor \"Blustery Day\")                                                         7.60\n",
      "A.A. Milne (characters), Tom Rogers                                                                                                                                                                                                                                                                               6.50\n",
      "A.A. Milne (stories), Karl Geurs (screenplay), Carter Crocker (screenplay)                                                                                                                                                                                                                                        7.10\n",
      "AJ Carothers, Erich Kästner (novel)                                                                                                                                                                                                                                                                               6.20\n",
      "Aaron Mendelsohn (teleplay), Janet Brownell (teleplay), Aaron Mendelsohn (story), Blake Harris (story)                                                                                                                                                                                                            6.30\n",
      "                                                                                                                                                                                                                                                                                                                  ... \n",
      "William Raynor (teleplay), Myles Wilder (teleplay), Gordon Buford (based on a story by)                                                                                                                                                                                                                           6.60\n",
      "William Wheeler (screenplay by), Tim Crothers (based on the ESPN Magazine article and book by)                                                                                                                                                                                                                    7.40\n",
      "Winston Hibler (screenplay), Ted Sears (screenplay), William Otis (screenplay)                                                                                                                                                                                                                                    6.90\n",
      "Winston Hibler (script), Ted Sears (script), James Algar (script)                                                                                                                                                                                                                                                 7.45\n",
      "Winston Hibler (story), Erdman Penner (story), Harry Reeves (story), Homer Brightman (story), Ken Anderson (story), Ted Sears (story), Joe Rinaldi (story), William Cottrell (story), Art Scott (story), Jesse Marsh (story), Bob Moore (story), John Walbridge (story), Hardie Gramatky (story \"Little Toot\")    6.40\n",
      "Name: imdb_rating, Length: 708, dtype: float64\n"
     ]
    }
   ],
   "source": [
    "writer= df2['writer']\n",
    "\n",
    "write= df2.set_index('writer').groupby('writer').mean()\n",
    "df9= write.imdb_rating\n",
    "%store df9\n",
    "print(write.imdb_rating)"
   ]
  },
  {
   "cell_type": "code",
   "execution_count": 28,
   "id": "cc23bd83",
   "metadata": {},
   "outputs": [],
   "source": [
    "actor= df2['actors']"
   ]
  },
  {
   "cell_type": "code",
   "execution_count": 29,
   "id": "a6985a38",
   "metadata": {},
   "outputs": [
    {
     "name": "stdout",
     "output_type": "stream",
     "text": [
      "Stored 'df10' (Series)\n",
      "language\n",
      "Brazilian Sign Language                                 8.300000\n",
      "Chinese, English                                        7.500000\n",
      "Chinese, Mandarin, Japanese, Korean, French, English    6.300000\n",
      "English                                                 6.637088\n",
      "English, Algonquin                                      6.700000\n",
      "                                                          ...   \n",
      "None                                                    7.955556\n",
      "Norwegian, English                                      5.100000\n",
      "Spanish                                                 5.200000\n",
      "Spanish, English                                        5.100000\n",
      "Spanish, German                                         6.800000\n",
      "Name: imdb_rating, Length: 72, dtype: float64\n"
     ]
    }
   ],
   "source": [
    "lenguage= df2['language']\n",
    "\n",
    "leng= df2.set_index('language').groupby('language').mean()\n",
    "df10= leng.imdb_rating\n",
    "%store df10\n",
    "print(leng.imdb_rating)"
   ]
  },
  {
   "cell_type": "code",
   "execution_count": 30,
   "id": "dfaf639f",
   "metadata": {},
   "outputs": [
    {
     "name": "stdout",
     "output_type": "stream",
     "text": [
      "Stored 'df11' (Series)\n",
      "country\n",
      "Argentina                                                                                                                          5.200000\n",
      "Argentina, Mexico                                                                                                                  6.800000\n",
      "Australia, UK                                                                                                                      9.700000\n",
      "Australia, USA                                                                                                                     6.333333\n",
      "Austria, UK, USA                                                                                                                   6.400000\n",
      "Canada                                                                                                                             7.100000\n",
      "Canada, Malaysia, USA                                                                                                              6.000000\n",
      "Canada, USA                                                                                                                        6.050000\n",
      "Canada, USA, UK, France                                                                                                            6.500000\n",
      "China                                                                                                                              6.400000\n",
      "China, Hong Kong, USA                                                                                                              5.300000\n",
      "Denmark, China                                                                                                                     7.466667\n",
      "France, Canada, USA                                                                                                                5.500000\n",
      "France, UK                                                                                                                         5.700000\n",
      "France, UK, USA                                                                                                                    8.000000\n",
      "France, USA                                                                                                                        7.400000\n",
      "Germany, USA                                                                                                                       4.600000\n",
      "India                                                                                                                              7.200000\n",
      "Ireland, UK, USA, South Korea, Canada                                                                                              5.100000\n",
      "Ireland, USA                                                                                                                       6.800000\n",
      "Ireland, USA, Canada, UK, Denmark, Spain, Poland, Hungary                                                                          6.300000\n",
      "New Zealand, USA                                                                                                                   6.100000\n",
      "Norway, Sweden, USA                                                                                                                6.700000\n",
      "South Korea, USA, China, Japan                                                                                                     7.000000\n",
      "Tanzania, USA                                                                                                                      7.200000\n",
      "UK                                                                                                                                 6.930000\n",
      "UK, Australia                                                                                                                      7.600000\n",
      "UK, Canada, USA                                                                                                                    6.600000\n",
      "UK, China, USA                                                                                                                     7.200000\n",
      "UK, Germany                                                                                                                        7.400000\n",
      "UK, USA                                                                                                                            6.771429\n",
      "UK, USA, Canada                                                                                                                    6.200000\n",
      "UK, USA, Ireland                                                                                                                   6.700000\n",
      "USA                                                                                                                                6.685931\n",
      "USA, Angola, Botswana, Namibia, South Africa                                                                                       7.600000\n",
      "USA, Australia                                                                                                                     6.071429\n",
      "USA, Australia, France, Canada                                                                                                     6.800000\n",
      "USA, Canada                                                                                                                        6.173684\n",
      "USA, Canada, Australia                                                                                                             5.800000\n",
      "USA, Canada, Australia, Taiwan                                                                                                     5.600000\n",
      "USA, Denmark                                                                                                                       5.600000\n",
      "USA, France                                                                                                                        6.466667\n",
      "USA, Germany, Ireland, UK                                                                                                          5.900000\n",
      "USA, Guatemala                                                                                                                     6.400000\n",
      "USA, Hungary, UK                                                                                                                   4.700000\n",
      "USA, India, UK                                                                                                                     6.750000\n",
      "USA, Ireland                                                                                                                       6.800000\n",
      "USA, Japan                                                                                                                         6.450000\n",
      "USA, Mexico                                                                                                                        6.300000\n",
      "USA, New Zealand                                                                                                                   5.600000\n",
      "USA, Panama, Mexico                                                                                                                7.400000\n",
      "USA, Philippines, South Korea                                                                                                      7.200000\n",
      "USA, Poland, Slovenia, Czech Republic, UK                                                                                          6.500000\n",
      "USA, South Korea, France                                                                                                           6.500000\n",
      "USA, South Korea, Singapore, Russia, Malaysia, Kazakhstan, Taiwan, Hong Kong, Japan, China, India, Syria, Iran, Egypt, Pakistan    5.700000\n",
      "USA, Taiwan, South Korea, China, Japan, UK                                                                                         7.600000\n",
      "USA, UK                                                                                                                            6.509091\n",
      "USA, UK, Australia                                                                                                                 7.500000\n",
      "USA, UK, Australia, Canada                                                                                                         6.300000\n",
      "Name: imdb_rating, dtype: float64\n"
     ]
    }
   ],
   "source": [
    "country= df2['country']\n",
    "\n",
    "countr= df2.set_index('country').groupby('country').mean()\n",
    "df11= countr.imdb_rating\n",
    "%store df11\n",
    "print(countr.imdb_rating)"
   ]
  },
  {
   "cell_type": "code",
   "execution_count": 31,
   "id": "57d52b21",
   "metadata": {},
   "outputs": [
    {
     "name": "stdout",
     "output_type": "stream",
     "text": [
      "Stored 'Rain_Data' (Series)\n",
      "awards\n",
      "1 nomination.                                               6.276786\n",
      "1 win & 1 nomination.                                       6.252632\n",
      "1 win & 10 nominations.                                     6.800000\n",
      "1 win & 11 nominations.                                     7.850000\n",
      "1 win & 13 nominations.                                     5.950000\n",
      "                                                              ...   \n",
      "Won 4 Primetime Emmys. Another 5 nominations.               8.000000\n",
      "Won 5 Oscars. Another 12 wins & 13 nominations.             8.000000\n",
      "Won 5 Oscars. Another 15 wins & 17 nominations.             7.800000\n",
      "Won 6 Oscars. Another 52 wins & 28 nominations.             8.600000\n",
      "Won 7 Primetime Emmys. Another 23 wins & 30 nominations.    8.100000\n",
      "Name: imdb_rating, Length: 258, dtype: float64\n"
     ]
    }
   ],
   "source": [
    "award= df2['awards']\n",
    "awards= df2.set_index('awards').groupby('awards').mean()\n",
    "Rain_Data= awards.imdb_rating\n",
    "%store Rain_Data\n",
    "print(awards.imdb_rating)"
   ]
  },
  {
   "cell_type": "code",
   "execution_count": 32,
   "id": "ebf87dae",
   "metadata": {},
   "outputs": [
    {
     "name": "stdout",
     "output_type": "stream",
     "text": [
      "Stored 'df12' (Series)\n",
      "metascore\n",
      "19.0    5.400\n",
      "24.0    3.000\n",
      "29.0    5.200\n",
      "30.0    5.000\n",
      "31.0    5.800\n",
      "        ...  \n",
      "92.0    8.300\n",
      "94.0    8.200\n",
      "95.0    8.075\n",
      "96.0    7.900\n",
      "99.0    7.400\n",
      "Name: imdb_rating, Length: 69, dtype: float64\n"
     ]
    }
   ],
   "source": [
    "metascore = df2['metascore']\n",
    "\n",
    "score= df2.set_index('metascore').groupby('metascore').mean()\n",
    "df12= score.imdb_rating\n",
    "%store df12\n",
    "print(score.imdb_rating)"
   ]
  },
  {
   "cell_type": "code",
   "execution_count": 33,
   "id": "db6b5d3a",
   "metadata": {},
   "outputs": [],
   "source": [
    "rating= df2['imdb_rating']"
   ]
  },
  {
   "cell_type": "code",
   "execution_count": 34,
   "id": "d232fb27",
   "metadata": {},
   "outputs": [
    {
     "name": "stdout",
     "output_type": "stream",
     "text": [
      "Stored 'df13' (Series)\n",
      "imdb_votes\n",
      "5.0          7.333333\n",
      "6.0          7.566667\n",
      "7.0          5.100000\n",
      "9.0          6.100000\n",
      "10.0         7.000000\n",
      "               ...   \n",
      "1007917.0    8.000000\n",
      "1086714.0    7.800000\n",
      "1109656.0    8.700000\n",
      "1188658.0    8.600000\n",
      "1225316.0    8.000000\n",
      "Name: imdb_rating, Length: 816, dtype: float64\n"
     ]
    }
   ],
   "source": [
    "votes= df2['imdb_votes']\n",
    "\n",
    "vote= df2.set_index('imdb_votes').groupby('imdb_votes').mean()\n",
    "df13= vote.imdb_rating\n",
    "%store df13\n",
    "print(vote.imdb_rating)"
   ]
  },
  {
   "cell_type": "code",
   "execution_count": 36,
   "id": "3ce9c934",
   "metadata": {},
   "outputs": [
    {
     "data": {
      "text/html": [
       "<div>\n",
       "<style scoped>\n",
       "    .dataframe tbody tr th:only-of-type {\n",
       "        vertical-align: middle;\n",
       "    }\n",
       "\n",
       "    .dataframe tbody tr th {\n",
       "        vertical-align: top;\n",
       "    }\n",
       "\n",
       "    .dataframe thead th {\n",
       "        text-align: right;\n",
       "    }\n",
       "</style>\n",
       "<table border=\"1\" class=\"dataframe\">\n",
       "  <thead>\n",
       "    <tr style=\"text-align: right;\">\n",
       "      <th></th>\n",
       "      <th>imdb_id</th>\n",
       "      <th>title</th>\n",
       "      <th>plot</th>\n",
       "      <th>type</th>\n",
       "      <th>rated</th>\n",
       "      <th>year</th>\n",
       "      <th>released_at</th>\n",
       "      <th>added_at</th>\n",
       "      <th>runtime</th>\n",
       "      <th>genre</th>\n",
       "      <th>director</th>\n",
       "      <th>writer</th>\n",
       "      <th>actors</th>\n",
       "      <th>language</th>\n",
       "      <th>country</th>\n",
       "      <th>awards</th>\n",
       "      <th>metascore</th>\n",
       "      <th>imdb_rating</th>\n",
       "      <th>imdb_votes</th>\n",
       "      <th>timemin</th>\n",
       "    </tr>\n",
       "  </thead>\n",
       "  <tbody>\n",
       "    <tr>\n",
       "      <th>0</th>\n",
       "      <td>tt0147800</td>\n",
       "      <td>10 Things I Hate About You</td>\n",
       "      <td>A pretty, popular teenager can't go out on a d...</td>\n",
       "      <td>movie</td>\n",
       "      <td>PG-13</td>\n",
       "      <td>1999</td>\n",
       "      <td>1999-03-31</td>\n",
       "      <td>2019-11-12</td>\n",
       "      <td>97 min</td>\n",
       "      <td>Comedy, Drama, Romance</td>\n",
       "      <td>Gil Junger</td>\n",
       "      <td>Karen McCullah, Kirsten Smith</td>\n",
       "      <td>Heath Ledger, Julia Stiles, Joseph Gordon-Levi...</td>\n",
       "      <td>English, French</td>\n",
       "      <td>USA</td>\n",
       "      <td>2 wins &amp; 13 nominations.</td>\n",
       "      <td>70.0</td>\n",
       "      <td>7.3</td>\n",
       "      <td>283945.0</td>\n",
       "      <td>97.0</td>\n",
       "    </tr>\n",
       "    <tr>\n",
       "      <th>1</th>\n",
       "      <td>tt7019028</td>\n",
       "      <td>101 Dalmatian Street</td>\n",
       "      <td>This series follows the lives of Delilah and D...</td>\n",
       "      <td>series</td>\n",
       "      <td>NaN</td>\n",
       "      <td>2018–</td>\n",
       "      <td>2019-03-25</td>\n",
       "      <td>2020-02-28</td>\n",
       "      <td>NaN</td>\n",
       "      <td>Animation, Comedy, Family</td>\n",
       "      <td>NaN</td>\n",
       "      <td>NaN</td>\n",
       "      <td>Josh Brener, Michaela Dietz, Bert Davis, Abiga...</td>\n",
       "      <td>English</td>\n",
       "      <td>UK, USA, Canada</td>\n",
       "      <td>NaN</td>\n",
       "      <td>NaN</td>\n",
       "      <td>6.2</td>\n",
       "      <td>124.0</td>\n",
       "      <td>NaN</td>\n",
       "    </tr>\n",
       "    <tr>\n",
       "      <th>2</th>\n",
       "      <td>tt0115433</td>\n",
       "      <td>101 Dalmatians</td>\n",
       "      <td>An evil high-fashion designer plots to steal D...</td>\n",
       "      <td>movie</td>\n",
       "      <td>G</td>\n",
       "      <td>1996</td>\n",
       "      <td>1996-11-27</td>\n",
       "      <td>2019-11-12</td>\n",
       "      <td>103 min</td>\n",
       "      <td>Adventure, Comedy, Crime, Family</td>\n",
       "      <td>Stephen Herek</td>\n",
       "      <td>Dodie Smith (novel), John Hughes (screenplay)</td>\n",
       "      <td>Glenn Close, Jeff Daniels, Joely Richardson, J...</td>\n",
       "      <td>English, Spanish</td>\n",
       "      <td>USA, UK</td>\n",
       "      <td>Nominated for 1 Golden Globe. Another 3 wins &amp;...</td>\n",
       "      <td>49.0</td>\n",
       "      <td>5.7</td>\n",
       "      <td>97785.0</td>\n",
       "      <td>103.0</td>\n",
       "    </tr>\n",
       "    <tr>\n",
       "      <th>3</th>\n",
       "      <td>tt0324941</td>\n",
       "      <td>101 Dalmatians 2: Patch's London Adventure</td>\n",
       "      <td>Being one of 101 takes its toll on Patch, who ...</td>\n",
       "      <td>movie</td>\n",
       "      <td>G</td>\n",
       "      <td>2002</td>\n",
       "      <td>2003-01-21</td>\n",
       "      <td>2019-11-12</td>\n",
       "      <td>74 min</td>\n",
       "      <td>Animation, Adventure, Comedy, Family, Musical</td>\n",
       "      <td>Jim Kammerud, Brian Smith</td>\n",
       "      <td>Jim Kammerud (story), Dan Root (story), Garret...</td>\n",
       "      <td>Barry Bostwick, Jason Alexander, Martin Short,...</td>\n",
       "      <td>English</td>\n",
       "      <td>USA</td>\n",
       "      <td>5 wins &amp; 10 nominations.</td>\n",
       "      <td>NaN</td>\n",
       "      <td>5.8</td>\n",
       "      <td>7434.0</td>\n",
       "      <td>74.0</td>\n",
       "    </tr>\n",
       "    <tr>\n",
       "      <th>4</th>\n",
       "      <td>tt0211181</td>\n",
       "      <td>102 Dalmatians</td>\n",
       "      <td>Cruella DeVil gets out of prison and goes afte...</td>\n",
       "      <td>movie</td>\n",
       "      <td>G</td>\n",
       "      <td>2000</td>\n",
       "      <td>2000-11-22</td>\n",
       "      <td>2019-11-12</td>\n",
       "      <td>100 min</td>\n",
       "      <td>Adventure, Comedy, Family</td>\n",
       "      <td>Kevin Lima</td>\n",
       "      <td>Dodie Smith (novel), Kristen Buckley (story), ...</td>\n",
       "      <td>Glenn Close, Gérard Depardieu, Ioan Gruffudd, ...</td>\n",
       "      <td>English</td>\n",
       "      <td>USA, UK</td>\n",
       "      <td>Nominated for 1 Oscar. Another 1 win &amp; 7 nomin...</td>\n",
       "      <td>35.0</td>\n",
       "      <td>4.9</td>\n",
       "      <td>33444.0</td>\n",
       "      <td>100.0</td>\n",
       "    </tr>\n",
       "  </tbody>\n",
       "</table>\n",
       "</div>"
      ],
      "text/plain": [
       "     imdb_id                                       title  \\\n",
       "0  tt0147800                  10 Things I Hate About You   \n",
       "1  tt7019028                        101 Dalmatian Street   \n",
       "2  tt0115433                              101 Dalmatians   \n",
       "3  tt0324941  101 Dalmatians 2: Patch's London Adventure   \n",
       "4  tt0211181                              102 Dalmatians   \n",
       "\n",
       "                                                plot    type  rated   year  \\\n",
       "0  A pretty, popular teenager can't go out on a d...   movie  PG-13   1999   \n",
       "1  This series follows the lives of Delilah and D...  series    NaN  2018–   \n",
       "2  An evil high-fashion designer plots to steal D...   movie      G   1996   \n",
       "3  Being one of 101 takes its toll on Patch, who ...   movie      G   2002   \n",
       "4  Cruella DeVil gets out of prison and goes afte...   movie      G   2000   \n",
       "\n",
       "  released_at   added_at  runtime  \\\n",
       "0  1999-03-31 2019-11-12   97 min   \n",
       "1  2019-03-25 2020-02-28      NaN   \n",
       "2  1996-11-27 2019-11-12  103 min   \n",
       "3  2003-01-21 2019-11-12   74 min   \n",
       "4  2000-11-22 2019-11-12  100 min   \n",
       "\n",
       "                                           genre                   director  \\\n",
       "0                         Comedy, Drama, Romance                 Gil Junger   \n",
       "1                      Animation, Comedy, Family                        NaN   \n",
       "2               Adventure, Comedy, Crime, Family              Stephen Herek   \n",
       "3  Animation, Adventure, Comedy, Family, Musical  Jim Kammerud, Brian Smith   \n",
       "4                      Adventure, Comedy, Family                 Kevin Lima   \n",
       "\n",
       "                                              writer  \\\n",
       "0                      Karen McCullah, Kirsten Smith   \n",
       "1                                                NaN   \n",
       "2      Dodie Smith (novel), John Hughes (screenplay)   \n",
       "3  Jim Kammerud (story), Dan Root (story), Garret...   \n",
       "4  Dodie Smith (novel), Kristen Buckley (story), ...   \n",
       "\n",
       "                                              actors          language  \\\n",
       "0  Heath Ledger, Julia Stiles, Joseph Gordon-Levi...   English, French   \n",
       "1  Josh Brener, Michaela Dietz, Bert Davis, Abiga...           English   \n",
       "2  Glenn Close, Jeff Daniels, Joely Richardson, J...  English, Spanish   \n",
       "3  Barry Bostwick, Jason Alexander, Martin Short,...           English   \n",
       "4  Glenn Close, Gérard Depardieu, Ioan Gruffudd, ...           English   \n",
       "\n",
       "           country                                             awards  \\\n",
       "0              USA                           2 wins & 13 nominations.   \n",
       "1  UK, USA, Canada                                                NaN   \n",
       "2          USA, UK  Nominated for 1 Golden Globe. Another 3 wins &...   \n",
       "3              USA                           5 wins & 10 nominations.   \n",
       "4          USA, UK  Nominated for 1 Oscar. Another 1 win & 7 nomin...   \n",
       "\n",
       "   metascore  imdb_rating  imdb_votes  timemin  \n",
       "0       70.0          7.3    283945.0     97.0  \n",
       "1        NaN          6.2       124.0      NaN  \n",
       "2       49.0          5.7     97785.0    103.0  \n",
       "3        NaN          5.8      7434.0     74.0  \n",
       "4       35.0          4.9     33444.0    100.0  "
      ]
     },
     "execution_count": 36,
     "metadata": {},
     "output_type": "execute_result"
    }
   ],
   "source": [
    "df.head()"
   ]
  },
  {
   "cell_type": "code",
   "execution_count": 40,
   "id": "eac7ea40",
   "metadata": {},
   "outputs": [
    {
     "name": "stdout",
     "output_type": "stream",
     "text": [
      "<class 'pandas.core.frame.DataFrame'>\n",
      "Int64Index: 885 entries, 0 to 991\n",
      "Data columns (total 20 columns):\n",
      " #   Column       Non-Null Count  Dtype         \n",
      "---  ------       --------------  -----         \n",
      " 0   imdb_id      885 non-null    object        \n",
      " 1   title        885 non-null    object        \n",
      " 2   plot         861 non-null    object        \n",
      " 3   type         885 non-null    object        \n",
      " 4   rated        742 non-null    object        \n",
      " 5   year         885 non-null    object        \n",
      " 6   released_at  868 non-null    datetime64[ns]\n",
      " 7   added_at     885 non-null    datetime64[ns]\n",
      " 8   runtime      835 non-null    object        \n",
      " 9   genre        885 non-null    object        \n",
      " 10  director     686 non-null    object        \n",
      " 11  writer       740 non-null    object        \n",
      " 12  actors       864 non-null    object        \n",
      " 13  language     861 non-null    object        \n",
      " 14  country      864 non-null    object        \n",
      " 15  awards       556 non-null    object        \n",
      " 16  metascore    292 non-null    float64       \n",
      " 17  imdb_rating  875 non-null    float64       \n",
      " 18  imdb_votes   875 non-null    float64       \n",
      " 19  timemin      835 non-null    float64       \n",
      "dtypes: datetime64[ns](2), float64(4), object(14)\n",
      "memory usage: 145.2+ KB\n"
     ]
    }
   ],
   "source": [
    "df2.info()"
   ]
  },
  {
   "cell_type": "code",
   "execution_count": 41,
   "id": "a045472d",
   "metadata": {},
   "outputs": [
    {
     "data": {
      "text/html": [
       "<div>\n",
       "<style scoped>\n",
       "    .dataframe tbody tr th:only-of-type {\n",
       "        vertical-align: middle;\n",
       "    }\n",
       "\n",
       "    .dataframe tbody tr th {\n",
       "        vertical-align: top;\n",
       "    }\n",
       "\n",
       "    .dataframe thead th {\n",
       "        text-align: right;\n",
       "    }\n",
       "</style>\n",
       "<table border=\"1\" class=\"dataframe\">\n",
       "  <thead>\n",
       "    <tr style=\"text-align: right;\">\n",
       "      <th></th>\n",
       "      <th>metascore</th>\n",
       "      <th>imdb_rating</th>\n",
       "      <th>imdb_votes</th>\n",
       "      <th>timemin</th>\n",
       "    </tr>\n",
       "  </thead>\n",
       "  <tbody>\n",
       "    <tr>\n",
       "      <th>count</th>\n",
       "      <td>292.000000</td>\n",
       "      <td>875.000000</td>\n",
       "      <td>8.750000e+02</td>\n",
       "      <td>835.000000</td>\n",
       "    </tr>\n",
       "    <tr>\n",
       "      <th>mean</th>\n",
       "      <td>62.061644</td>\n",
       "      <td>6.657943</td>\n",
       "      <td>6.283311e+04</td>\n",
       "      <td>68.305389</td>\n",
       "    </tr>\n",
       "    <tr>\n",
       "      <th>std</th>\n",
       "      <td>15.776455</td>\n",
       "      <td>1.022142</td>\n",
       "      <td>1.724585e+05</td>\n",
       "      <td>39.682298</td>\n",
       "    </tr>\n",
       "    <tr>\n",
       "      <th>min</th>\n",
       "      <td>19.000000</td>\n",
       "      <td>1.500000</td>\n",
       "      <td>5.000000e+00</td>\n",
       "      <td>1.000000</td>\n",
       "    </tr>\n",
       "    <tr>\n",
       "      <th>25%</th>\n",
       "      <td>51.000000</td>\n",
       "      <td>6.100000</td>\n",
       "      <td>7.230000e+02</td>\n",
       "      <td>30.000000</td>\n",
       "    </tr>\n",
       "    <tr>\n",
       "      <th>50%</th>\n",
       "      <td>61.000000</td>\n",
       "      <td>6.700000</td>\n",
       "      <td>3.961000e+03</td>\n",
       "      <td>81.000000</td>\n",
       "    </tr>\n",
       "    <tr>\n",
       "      <th>75%</th>\n",
       "      <td>73.000000</td>\n",
       "      <td>7.400000</td>\n",
       "      <td>2.439850e+04</td>\n",
       "      <td>96.500000</td>\n",
       "    </tr>\n",
       "    <tr>\n",
       "      <th>max</th>\n",
       "      <td>99.000000</td>\n",
       "      <td>9.700000</td>\n",
       "      <td>1.225316e+06</td>\n",
       "      <td>181.000000</td>\n",
       "    </tr>\n",
       "  </tbody>\n",
       "</table>\n",
       "</div>"
      ],
      "text/plain": [
       "        metascore  imdb_rating    imdb_votes     timemin\n",
       "count  292.000000   875.000000  8.750000e+02  835.000000\n",
       "mean    62.061644     6.657943  6.283311e+04   68.305389\n",
       "std     15.776455     1.022142  1.724585e+05   39.682298\n",
       "min     19.000000     1.500000  5.000000e+00    1.000000\n",
       "25%     51.000000     6.100000  7.230000e+02   30.000000\n",
       "50%     61.000000     6.700000  3.961000e+03   81.000000\n",
       "75%     73.000000     7.400000  2.439850e+04   96.500000\n",
       "max     99.000000     9.700000  1.225316e+06  181.000000"
      ]
     },
     "execution_count": 41,
     "metadata": {},
     "output_type": "execute_result"
    }
   ],
   "source": [
    "df2.describe()"
   ]
  },
  {
   "cell_type": "code",
   "execution_count": null,
   "id": "f98f5e31",
   "metadata": {},
   "outputs": [],
   "source": []
  }
 ],
 "metadata": {
  "kernelspec": {
   "display_name": "Python 3 (ipykernel)",
   "language": "python",
   "name": "python3"
  },
  "language_info": {
   "codemirror_mode": {
    "name": "ipython",
    "version": 3
   },
   "file_extension": ".py",
   "mimetype": "text/x-python",
   "name": "python",
   "nbconvert_exporter": "python",
   "pygments_lexer": "ipython3",
   "version": "3.9.12"
  }
 },
 "nbformat": 4,
 "nbformat_minor": 5
}
